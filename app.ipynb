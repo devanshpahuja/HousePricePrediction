{
 "cells": [
  {
   "cell_type": "code",
   "execution_count": null,
   "id": "f71d2372",
   "metadata": {},
   "outputs": [
    {
     "name": "stdout",
     "output_type": "stream",
     "text": [
      " * Serving Flask app \"__main__\" (lazy loading)\n",
      " * Environment: development\n",
      " * Debug mode: off\n"
     ]
    },
    {
     "name": "stderr",
     "output_type": "stream",
     "text": [
      " * Running on http://127.0.0.1:5000/ (Press CTRL+C to quit)\n",
      "127.0.0.1 - - [16/Nov/2021 13:56:52] \"\u001b[37mGET / HTTP/1.1\u001b[0m\" 200 -\n",
      "127.0.0.1 - - [16/Nov/2021 13:56:52] \"\u001b[37mGET /favicon.ico HTTP/1.1\u001b[0m\" 200 -\n",
      "[2021-11-16 13:57:17,916] ERROR in app: Exception on /prediction [POST]\n",
      "Traceback (most recent call last):\n",
      "  File \"C:\\Users\\Public\\anaconda3\\lib\\site-packages\\flask\\app.py\", line 2447, in wsgi_app\n",
      "    response = self.full_dispatch_request()\n",
      "  File \"C:\\Users\\Public\\anaconda3\\lib\\site-packages\\flask\\app.py\", line 1952, in full_dispatch_request\n",
      "    rv = self.handle_user_exception(e)\n",
      "  File \"C:\\Users\\Public\\anaconda3\\lib\\site-packages\\flask\\app.py\", line 1821, in handle_user_exception\n",
      "    reraise(exc_type, exc_value, tb)\n",
      "  File \"C:\\Users\\Public\\anaconda3\\lib\\site-packages\\flask\\_compat.py\", line 39, in reraise\n",
      "    raise value\n",
      "  File \"C:\\Users\\Public\\anaconda3\\lib\\site-packages\\flask\\app.py\", line 1950, in full_dispatch_request\n",
      "    rv = self.dispatch_request()\n",
      "  File \"C:\\Users\\Public\\anaconda3\\lib\\site-packages\\flask\\app.py\", line 1936, in dispatch_request\n",
      "    return self.view_functions[rule.endpoint](**req.view_args)\n",
      "  File \"<ipython-input-1-167c29a369d5>\", line 15, in home\n",
      "    area= int(request.form['area'])\n",
      "ValueError: invalid literal for int() with base 10: ''\n",
      "127.0.0.1 - - [16/Nov/2021 13:57:17] \"\u001b[37mPOST /prediction HTTP/1.1\u001b[0m\" 200 -\n",
      "127.0.0.1 - - [16/Nov/2021 13:57:18] \"\u001b[37mGET /favicon.ico HTTP/1.1\u001b[0m\" 200 -\n",
      "127.0.0.1 - - [16/Nov/2021 13:57:20] \"\u001b[37mGET /favicon.ico HTTP/1.1\u001b[0m\" 200 -\n"
     ]
    }
   ],
   "source": [
    "from flask import Flask, render_template, url_for, request\n",
    "import pickle\n",
    "import numpy as np\n",
    "\n",
    "model=pickle.load(open(\"model.pkl\",\"rb\"))\n",
    "\n",
    "app = Flask(__name__)\n",
    "\n",
    "@app.route(\"/\")\n",
    "def index():\n",
    "    return render_template(\"index.html\")\n",
    "\n",
    "@app.route(\"/prediction\", methods=['POST'])\n",
    "def home():\n",
    "    area= int(request.form['area'])\n",
    "    bhk= int(request.form['bhk'])\n",
    "    resale= int(request.form['resale'])\n",
    "    Staff_number=int(request.form['Staff_number'])\n",
    "    society= int(request.form['society'])\n",
    "    intercom= int(request.form['intercom'])\n",
    "    atm= int(request.form['atm'])\n",
    "    security= int(request.form['security'])\n",
    "    backup= int(request.form['backup'])\n",
    "    parking= int(request.form['parking'])\n",
    "    Staffquarter= int(request.form['Staffquarter'])\n",
    "    cafe= int(request.form['cafe'])\n",
    "    multipurposeroom= int(request.form['MPR'])\n",
    "    hospital= int(request.form['hospital'])\n",
    "    machine= int(request.form['Machine'])\n",
    "    wifi= int(request.form['Wifi'])\n",
    "    Vastu_complaint= int(request.form['Vastu_complaint'])\n",
    "    furnished= int(request.form['fusnished'])\n",
    "    mall=school=golf=0\n",
    "    gas=AC=1\n",
    "    \n",
    "    \n",
    "    if society == 1:\n",
    "        gym=pool=garden=track=mall=harvesting=games=sports=lift=clubhouse=ground= 1\n",
    "    else :\n",
    "        gym=pool=garden=track=mall=harvesting=games=sports=clubhouse=ground=0\n",
    "    \n",
    "    if furnished== 1 :\n",
    "        bed=microwave=TV=DT=sofa=wardrobe=fridge=1\n",
    "    else:\n",
    "         bed=microwave=TV=DT=sofa=wardrobe=fridge=0\n",
    "            \n",
    "    var = np.array([area,bhk,resale,Staff_number, gym, pool, garden, track,harvesting,games, mall,intercom, sports, atm,clubhouse,school,security, backup, parking,Staffquarter,cafe,multipurposeroom, hospital, machine,gas, AC, wifi, ground, lift, bed,Vastu_complaint,microwave,golf,TV,DT,sofa, wardrobe, fridge ])\n",
    "    var= var.reshape(1,-1)\n",
    "    prediction= model.predict(var)\n",
    "            \n",
    "    return render_template(\"prediction.html\", prediction= int(prediction.round(3)))\n",
    "\n",
    "\n",
    "\n",
    "@app.errorhandler(500)\n",
    "def errorpage(e):\n",
    "    return render_template(\"500.html\")\n",
    "\n",
    "@app.errorhandler(404)\n",
    "def errorpage(e):\n",
    "    return render_template(\"404.html\")\n",
    "\n",
    "if __name__==\"__main__\":\n",
    "    app.run(debug=False)"
   ]
  },
  {
   "cell_type": "code",
   "execution_count": null,
   "id": "d2a789f3",
   "metadata": {},
   "outputs": [],
   "source": [
    "%tb"
   ]
  },
  {
   "cell_type": "code",
   "execution_count": null,
   "id": "6e68173b",
   "metadata": {},
   "outputs": [],
   "source": []
  },
  {
   "cell_type": "code",
   "execution_count": null,
   "id": "76050b80",
   "metadata": {},
   "outputs": [],
   "source": []
  },
  {
   "cell_type": "code",
   "execution_count": null,
   "id": "cc54ffcf",
   "metadata": {},
   "outputs": [],
   "source": []
  }
 ],
 "metadata": {
  "kernelspec": {
   "display_name": "Python 3",
   "language": "python",
   "name": "python3"
  },
  "language_info": {
   "codemirror_mode": {
    "name": "ipython",
    "version": 3
   },
   "file_extension": ".py",
   "mimetype": "text/x-python",
   "name": "python",
   "nbconvert_exporter": "python",
   "pygments_lexer": "ipython3",
   "version": "3.8.8"
  }
 },
 "nbformat": 4,
 "nbformat_minor": 5
}
